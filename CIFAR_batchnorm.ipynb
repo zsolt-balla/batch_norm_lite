{
  "nbformat": 4,
  "nbformat_minor": 0,
  "metadata": {
    "colab": {
      "name": "CIFAR.ipynb",
      "provenance": [],
      "collapsed_sections": [],
      "authorship_tag": "ABX9TyNP0t53uD2gnBoUFfLUsFRe"
    },
    "kernelspec": {
      "name": "python3",
      "display_name": "Python 3"
    },
    "accelerator": "GPU",
    "widgets": {
      "application/vnd.jupyter.widget-state+json": {
        "ab6802fdbf014c20b1ed7c0787e7a319": {
          "model_module": "@jupyter-widgets/controls",
          "model_name": "HBoxModel",
          "state": {
            "_view_name": "HBoxView",
            "_dom_classes": [],
            "_model_name": "HBoxModel",
            "_view_module": "@jupyter-widgets/controls",
            "_model_module_version": "1.5.0",
            "_view_count": null,
            "_view_module_version": "1.5.0",
            "box_style": "",
            "layout": "IPY_MODEL_0fe3efb113d34307bf30f870f051d985",
            "_model_module": "@jupyter-widgets/controls",
            "children": [
              "IPY_MODEL_7638e2a79fec45fcbeb3660a07acdaea",
              "IPY_MODEL_55d2bd1728344204a2ea83b6320a88e2"
            ]
          }
        },
        "0fe3efb113d34307bf30f870f051d985": {
          "model_module": "@jupyter-widgets/base",
          "model_name": "LayoutModel",
          "state": {
            "_view_name": "LayoutView",
            "grid_template_rows": null,
            "right": null,
            "justify_content": null,
            "_view_module": "@jupyter-widgets/base",
            "overflow": null,
            "_model_module_version": "1.2.0",
            "_view_count": null,
            "flex_flow": null,
            "width": null,
            "min_width": null,
            "border": null,
            "align_items": null,
            "bottom": null,
            "_model_module": "@jupyter-widgets/base",
            "top": null,
            "grid_column": null,
            "overflow_y": null,
            "overflow_x": null,
            "grid_auto_flow": null,
            "grid_area": null,
            "grid_template_columns": null,
            "flex": null,
            "_model_name": "LayoutModel",
            "justify_items": null,
            "grid_row": null,
            "max_height": null,
            "align_content": null,
            "visibility": null,
            "align_self": null,
            "height": null,
            "min_height": null,
            "padding": null,
            "grid_auto_rows": null,
            "grid_gap": null,
            "max_width": null,
            "order": null,
            "_view_module_version": "1.2.0",
            "grid_template_areas": null,
            "object_position": null,
            "object_fit": null,
            "grid_auto_columns": null,
            "margin": null,
            "display": null,
            "left": null
          }
        },
        "7638e2a79fec45fcbeb3660a07acdaea": {
          "model_module": "@jupyter-widgets/controls",
          "model_name": "FloatProgressModel",
          "state": {
            "_view_name": "ProgressView",
            "style": "IPY_MODEL_95a53ce7b2a94a59a29b4045dd024936",
            "_dom_classes": [],
            "description": "",
            "_model_name": "FloatProgressModel",
            "bar_style": "info",
            "max": 1,
            "_view_module": "@jupyter-widgets/controls",
            "_model_module_version": "1.5.0",
            "value": 1,
            "_view_count": null,
            "_view_module_version": "1.5.0",
            "orientation": "horizontal",
            "min": 0,
            "description_tooltip": null,
            "_model_module": "@jupyter-widgets/controls",
            "layout": "IPY_MODEL_958b9ebcab074fbdbd70971d6e315108"
          }
        },
        "55d2bd1728344204a2ea83b6320a88e2": {
          "model_module": "@jupyter-widgets/controls",
          "model_name": "HTMLModel",
          "state": {
            "_view_name": "HTMLView",
            "style": "IPY_MODEL_e91024c1d5d34d079fb8da760e1be9bd",
            "_dom_classes": [],
            "description": "",
            "_model_name": "HTMLModel",
            "placeholder": "​",
            "_view_module": "@jupyter-widgets/controls",
            "_model_module_version": "1.5.0",
            "value": " 170500096/? [00:30&lt;00:00, 16538816.40it/s]",
            "_view_count": null,
            "_view_module_version": "1.5.0",
            "description_tooltip": null,
            "_model_module": "@jupyter-widgets/controls",
            "layout": "IPY_MODEL_4972961eb93e4a239a54b9a4e2de5736"
          }
        },
        "95a53ce7b2a94a59a29b4045dd024936": {
          "model_module": "@jupyter-widgets/controls",
          "model_name": "ProgressStyleModel",
          "state": {
            "_view_name": "StyleView",
            "_model_name": "ProgressStyleModel",
            "description_width": "initial",
            "_view_module": "@jupyter-widgets/base",
            "_model_module_version": "1.5.0",
            "_view_count": null,
            "_view_module_version": "1.2.0",
            "bar_color": null,
            "_model_module": "@jupyter-widgets/controls"
          }
        },
        "958b9ebcab074fbdbd70971d6e315108": {
          "model_module": "@jupyter-widgets/base",
          "model_name": "LayoutModel",
          "state": {
            "_view_name": "LayoutView",
            "grid_template_rows": null,
            "right": null,
            "justify_content": null,
            "_view_module": "@jupyter-widgets/base",
            "overflow": null,
            "_model_module_version": "1.2.0",
            "_view_count": null,
            "flex_flow": null,
            "width": null,
            "min_width": null,
            "border": null,
            "align_items": null,
            "bottom": null,
            "_model_module": "@jupyter-widgets/base",
            "top": null,
            "grid_column": null,
            "overflow_y": null,
            "overflow_x": null,
            "grid_auto_flow": null,
            "grid_area": null,
            "grid_template_columns": null,
            "flex": null,
            "_model_name": "LayoutModel",
            "justify_items": null,
            "grid_row": null,
            "max_height": null,
            "align_content": null,
            "visibility": null,
            "align_self": null,
            "height": null,
            "min_height": null,
            "padding": null,
            "grid_auto_rows": null,
            "grid_gap": null,
            "max_width": null,
            "order": null,
            "_view_module_version": "1.2.0",
            "grid_template_areas": null,
            "object_position": null,
            "object_fit": null,
            "grid_auto_columns": null,
            "margin": null,
            "display": null,
            "left": null
          }
        },
        "e91024c1d5d34d079fb8da760e1be9bd": {
          "model_module": "@jupyter-widgets/controls",
          "model_name": "DescriptionStyleModel",
          "state": {
            "_view_name": "StyleView",
            "_model_name": "DescriptionStyleModel",
            "description_width": "",
            "_view_module": "@jupyter-widgets/base",
            "_model_module_version": "1.5.0",
            "_view_count": null,
            "_view_module_version": "1.2.0",
            "_model_module": "@jupyter-widgets/controls"
          }
        },
        "4972961eb93e4a239a54b9a4e2de5736": {
          "model_module": "@jupyter-widgets/base",
          "model_name": "LayoutModel",
          "state": {
            "_view_name": "LayoutView",
            "grid_template_rows": null,
            "right": null,
            "justify_content": null,
            "_view_module": "@jupyter-widgets/base",
            "overflow": null,
            "_model_module_version": "1.2.0",
            "_view_count": null,
            "flex_flow": null,
            "width": null,
            "min_width": null,
            "border": null,
            "align_items": null,
            "bottom": null,
            "_model_module": "@jupyter-widgets/base",
            "top": null,
            "grid_column": null,
            "overflow_y": null,
            "overflow_x": null,
            "grid_auto_flow": null,
            "grid_area": null,
            "grid_template_columns": null,
            "flex": null,
            "_model_name": "LayoutModel",
            "justify_items": null,
            "grid_row": null,
            "max_height": null,
            "align_content": null,
            "visibility": null,
            "align_self": null,
            "height": null,
            "min_height": null,
            "padding": null,
            "grid_auto_rows": null,
            "grid_gap": null,
            "max_width": null,
            "order": null,
            "_view_module_version": "1.2.0",
            "grid_template_areas": null,
            "object_position": null,
            "object_fit": null,
            "grid_auto_columns": null,
            "margin": null,
            "display": null,
            "left": null
          }
        }
      }
    }
  },
  "cells": [
    {
      "cell_type": "markdown",
      "metadata": {
        "id": "PqNg-p4Pntwi",
        "colab_type": "text"
      },
      "source": [
        "# Continuing with AlexNet on CIFAR-10 dataset\n",
        "\n",
        "This notebook is a continuation of the MNIST example, found here:\n",
        "\n",
        "https://github.com/zsolt-balla/batch_norm_lite/blob/master/MNIST_batchnorm.ipynb\n",
        "\n"
      ]
    },
    {
      "cell_type": "markdown",
      "metadata": {
        "id": "grqlSxuFw3xR",
        "colab_type": "text"
      },
      "source": [
        "# The Setup\n",
        "\n",
        "Importing packages, defining CNN class (with optional Batch Normalisation) and the training function"
      ]
    },
    {
      "cell_type": "code",
      "metadata": {
        "id": "hPGRB-4toulj",
        "colab_type": "code",
        "colab": {}
      },
      "source": [
        "import torch\n",
        "import torch.nn as nn\n",
        "import torch.nn.functional as F\n",
        "import torch.optim as optim\n",
        "from torchvision import datasets, transforms\n",
        "from torch.autograd import Variable\n",
        "import matplotlib.pyplot as plt\n",
        "import numpy as np\n",
        "\n",
        "seed=42\n",
        "torch.manual_seed(seed)\n",
        "torch.backends.cudnn.deterministic = True\n",
        "torch.backends.cudnn.benchmark = False\n",
        "np.random.seed(seed)\n",
        "\n",
        "\n",
        "\n",
        "# a cosmetic function for compulsive reasons, skip\n",
        "def pad(num, l):\n",
        "  s = str(num)[:l]\n",
        "  return(s + ' ' * (l - len(s)))"
      ],
      "execution_count": 2,
      "outputs": []
    },
    {
      "cell_type": "code",
      "metadata": {
        "id": "zAvx1ai0onj5",
        "colab_type": "code",
        "colab": {}
      },
      "source": [
        "def load_and_transform(batchsize=128):\n",
        "    global train_loader, test_loader\n",
        "    transform = transforms.Compose(\n",
        "                [transforms.Resize((224,224)) ,\n",
        "                transforms.ToTensor(),\n",
        "                transforms.Normalize((0.5, 0.5, 0.5), (0.5, 0.5, 0.5))\n",
        "                ])\n",
        "            \n",
        "    # download and transform train dataset\n",
        "    train_loader = torch.utils.data.DataLoader(datasets.CIFAR10('../cifar_data', download=True, train=True, transform=transform), \n",
        "    batch_size=batchsize, shuffle=True,num_workers=4)\n",
        "\n",
        "    # download and transform test dataset\n",
        "    test_loader = torch.utils.data.DataLoader(datasets.CIFAR10('../cifar_data', download=True, train=False, transform=transform),\n",
        "    batch_size=batchsize, shuffle=True,num_workers=4)"
      ],
      "execution_count": 3,
      "outputs": []
    },
    {
      "cell_type": "code",
      "metadata": {
        "id": "ZNkvGOVIcrnY",
        "colab_type": "code",
        "colab": {}
      },
      "source": [
        "class CNNClassifier(nn.Module):  \n",
        "    #ALexNet\n",
        "    BNFunction = nn.BatchNorm2d\n",
        "    normlayers = []\n",
        "    def __init__(self, num_classes=10, normlayers=[True, True, True, True, True]):\n",
        "            BNFunction = nn.BatchNorm2d\n",
        "            super(CNNClassifier, self).__init__()\n",
        "            \n",
        "            # creating argument list for nn.Sequential (this enables easy parametric argument passing)\n",
        "            #                | layers:\n",
        "            layers = []\n",
        "            layers.append(    nn.Conv2d(3, 64, kernel_size=11, stride=4, padding=2))\n",
        "            if(normlayers[0]):\n",
        "              layers.append(  BNFunction(64))\n",
        "            layers.extend([   nn.ReLU(inplace=True),\n",
        "                              nn.MaxPool2d(kernel_size=2, stride=2),\n",
        "                              nn.Conv2d(64, 192, kernel_size=5, padding=2)])\n",
        "            if(normlayers[1]):\n",
        "              layers.append(  BNFunction(192))\n",
        "            layers.extend([   nn.ReLU(inplace=True),\n",
        "                              nn.MaxPool2d(kernel_size=2, stride=2),\n",
        "                              nn.Conv2d(192, 384, kernel_size=3, padding=1)])\n",
        "            if(normlayers[2]):\n",
        "              layers.append(  BNFunction(384))\n",
        "            layers.extend([   nn.ReLU(inplace=True),\n",
        "                              nn.Conv2d(384, 256, kernel_size=3, padding=1)])\n",
        "            if(normlayers[3]):\n",
        "              layers.append(  BNFunction(256))\n",
        "            layers.extend([   nn.ReLU(inplace=True),\n",
        "                              nn.Conv2d(256, 256, kernel_size=3, padding=1)])\n",
        "            if(normlayers[4]):\n",
        "              layers.append(  BNFunction(256))\n",
        "            layers.extend([   nn.ReLU(inplace=True),\n",
        "                              nn.MaxPool2d(kernel_size=2, stride=2)])\n",
        "\n",
        "            \n",
        "            self.features = nn.Sequential(*layers)\n",
        "            self.avgpool = nn.AdaptiveAvgPool2d((6, 6))\n",
        "            self.classifier = nn.Sequential(\n",
        "                    nn.Dropout(),\n",
        "                    nn.Linear(256 * 6 * 6, 4096),\n",
        "                    nn.ReLU(inplace=True),\n",
        "                    nn.Dropout(),\n",
        "                    nn.Linear(4096, 4096),\n",
        "                    nn.ReLU(inplace=True),\n",
        "                    nn.Linear(4096, num_classes),\n",
        "                )\n",
        "\n",
        "    def forward(self, x):\n",
        "                x = self.features(x)\n",
        "                x = self.avgpool(x)\n",
        "                x = x.view(x.size(0), -1)\n",
        "                x = self.classifier(x)\n",
        "                return F.log_softmax(x,dim=-1)\n"
      ],
      "execution_count": 4,
      "outputs": []
    },
    {
      "cell_type": "code",
      "metadata": {
        "id": "CHZJKCQ-pDkA",
        "colab_type": "code",
        "colab": {}
      },
      "source": [
        "def train(epoch):\n",
        "  \n",
        "  for batch_id, (data, label) in enumerate(train_loader):\n",
        "      clf.train()\n",
        "      data=data.cuda()\n",
        "      label=label.cuda()\n",
        "      opt.zero_grad()\n",
        "      preds = clf(data)\n",
        "      loss = F.nll_loss(preds, label)\n",
        "      loss.backward()\n",
        "      train_loss_history[-1].append(loss.item())\n",
        "      opt.step()\n",
        "      predind = preds.data.max(1)[1] \n",
        "      acc = predind.eq(label.data).cpu().float().mean() \n",
        "      train_acc_history[-1].append(acc)\n",
        "      \n",
        "      if batch_id % 100 == 0:\n",
        "          #print(\"Train Loss: \" + str(loss.item()) + \" Acc: \" + str(acc.item()))\n",
        "          metrics = \"Train Loss: \" + pad(loss.item(), 7) + \" Acc: \" + pad(acc.item(), 4)\n",
        "\n",
        "          #run independent test\n",
        "          clf.eval() # set model in inference mode (need this because of dropout)\n",
        "          test_loss = 0\n",
        "          correct = 0\n",
        "      \n",
        "          for data, target in test_loader: \n",
        "              data=data.cuda()\n",
        "              target=target.cuda()  \n",
        "              with torch.no_grad():    \n",
        "                  output = clf(data)\n",
        "                  test_loss += F.nll_loss(output, target).item()\n",
        "                  pred = output.data.max(1)[1] \n",
        "                  correct += pred.eq(target.data).cpu().sum()\n",
        "\n",
        "          test_loss = test_loss\n",
        "          test_loss /= len(test_loader) # loss function already averages over batch size\n",
        "          accuracy =  correct.item() / len(test_loader.dataset)\n",
        "          #print('\\nTest set: Average loss: {:.4f}, Accuracy: {}/{} ({:.0f}%)\\n'.format(\n",
        "          #    test_loss, correct, len(test_loader.dataset),\n",
        "          #    accuracy))\n",
        "          test_acc_history[-1].append(accuracy)\n",
        "          test_loss_history[-1].append(test_loss)\n",
        "          #print(\"Test Loss: \"+str(test_loss)+\" Acc: \"+str(accuracy))\n",
        "          metrics += \"  |  Test Loss: \" + pad(test_loss, 7) + \" Acc: \" + pad(accuracy, 4)\n",
        "          print(metrics)"
      ],
      "execution_count": 5,
      "outputs": []
    },
    {
      "cell_type": "code",
      "metadata": {
        "id": "s-clPjnOobtb",
        "colab_type": "code",
        "colab": {}
      },
      "source": [
        "def run_training(norm_layers=[True, True, True, True, True], epochs=6, batch_size=128): # also had: repeat\n",
        "    #for repeat in range(0, repeat):\n",
        "        global clf, opt\n",
        "        clf = CNNClassifier(10, norm_layers).cuda()\n",
        "\n",
        "        #for p in clf.parameters():\n",
        "        #    print(p.shape)\n",
        "        opt = optim.SGD(clf.parameters(), lr=0.01, momentum=0.5)\n",
        "        #opt = optim.Adam(clf.parameters(), lr=0.01)\n",
        "        \n",
        "        train_loss_history.append([])\n",
        "        train_acc_history.append([])\n",
        "        test_loss_history.append([])\n",
        "        test_acc_history.append([])\n",
        "        for epoch in range(0, epochs):\n",
        "            print(\"Epoch %d\" % epoch)\n",
        "            train(epoch)\n",
        "        \n",
        "    #torch.save(clf.state_dict(), \"MyNetMnist\")\n",
        "    #np.save(BNType+\"_train_loss.npy\",np.array(train_loss_history))\n",
        "    #np.save(BNType+\"_train_acc.npy\",np.array(train_acc_history))\n",
        "    #np.save(BNType+\"_test_loss.npy\",np.array(test_loss_history))\n",
        "    #np.save(BNType+\"_test_acc.npy\",np.array(test_acc_history))"
      ],
      "execution_count": 6,
      "outputs": []
    },
    {
      "cell_type": "markdown",
      "metadata": {
        "id": "KVbeXAMsxPIE",
        "colab_type": "text"
      },
      "source": [
        "# Experiment\n",
        "Defining the experiment function as well as some BN settings."
      ]
    },
    {
      "cell_type": "code",
      "metadata": {
        "id": "_32FWtGW02hi",
        "colab_type": "code",
        "colab": {}
      },
      "source": [
        "selection = [[False, False, False, False, False],\n",
        "             [False, True, False, True, False],\n",
        "             [True, True, True, True, True]]"
      ],
      "execution_count": 7,
      "outputs": []
    },
    {
      "cell_type": "code",
      "metadata": {
        "id": "JJiJUroi2PIL",
        "colab_type": "code",
        "colab": {}
      },
      "source": [
        "#print(\"Test Filtered\")\n",
        "#RunTest(\"Filtered\",25,10,128)\n",
        "#print(\"Test Builtin\")\n",
        "#RunTest(\"Builtin\",25,10,128)\n",
        "\n",
        "# train the network with a specific set of normalisation settings, for N epochs each.\n",
        "def experiment(epochs, norm_settings):\n",
        "  load_and_transform()\n",
        "  for list in norm_settings:\n",
        "    print('\\nTraining with ' + str(list))\n",
        "    run_training(list, epochs)"
      ],
      "execution_count": 8,
      "outputs": []
    },
    {
      "cell_type": "code",
      "metadata": {
        "id": "eEdbx2w_1g9H",
        "colab_type": "code",
        "colab": {
          "base_uri": "https://localhost:8080/",
          "height": 1000,
          "referenced_widgets": [
            "ab6802fdbf014c20b1ed7c0787e7a319",
            "0fe3efb113d34307bf30f870f051d985",
            "7638e2a79fec45fcbeb3660a07acdaea",
            "55d2bd1728344204a2ea83b6320a88e2",
            "95a53ce7b2a94a59a29b4045dd024936",
            "958b9ebcab074fbdbd70971d6e315108",
            "e91024c1d5d34d079fb8da760e1be9bd",
            "4972961eb93e4a239a54b9a4e2de5736"
          ]
        },
        "outputId": "d548c728-e874-4c0e-9823-6d3100d956f1"
      },
      "source": [
        "train_loss_history = []\n",
        "train_acc_history = []\n",
        "test_loss_history = []\n",
        "test_acc_history = []\n",
        "\n",
        "experiment(6, selection)"
      ],
      "execution_count": 9,
      "outputs": [
        {
          "output_type": "stream",
          "text": [
            "Downloading https://www.cs.toronto.edu/~kriz/cifar-10-python.tar.gz to ../cifar_data/cifar-10-python.tar.gz\n"
          ],
          "name": "stdout"
        },
        {
          "output_type": "display_data",
          "data": {
            "application/vnd.jupyter.widget-view+json": {
              "model_id": "ab6802fdbf014c20b1ed7c0787e7a319",
              "version_minor": 0,
              "version_major": 2
            },
            "text/plain": [
              "HBox(children=(FloatProgress(value=1.0, bar_style='info', max=1.0), HTML(value='')))"
            ]
          },
          "metadata": {
            "tags": []
          }
        },
        {
          "output_type": "stream",
          "text": [
            "Extracting ../cifar_data/cifar-10-python.tar.gz to ../cifar_data\n",
            "Files already downloaded and verified\n",
            "\n",
            "Training with [False, False, False, False, False]\n",
            "Epoch 0\n",
            "Train Loss: 2.30235 Acc: 0.10  |  Test Loss: 2.30259 Acc: 0.1 \n",
            "Train Loss: 2.30348 Acc: 0.12  |  Test Loss: 2.30250 Acc: 0.11\n",
            "Train Loss: 2.30197 Acc: 0.07  |  Test Loss: 2.30241 Acc: 0.1 \n",
            "Train Loss: 2.30281 Acc: 0.08  |  Test Loss: 2.30225 Acc: 0.1 \n",
            "Epoch 1\n",
            "Train Loss: 2.30219 Acc: 0.07  |  Test Loss: 2.30208 Acc: 0.1 \n",
            "Train Loss: 2.30190 Acc: 0.14  |  Test Loss: 2.30186 Acc: 0.10\n",
            "Train Loss: 2.30172 Acc: 0.08  |  Test Loss: 2.30152 Acc: 0.15\n",
            "Train Loss: 2.30091 Acc: 0.17  |  Test Loss: 2.30098 Acc: 0.16\n",
            "Epoch 2\n",
            "Train Loss: 2.30063 Acc: 0.07  |  Test Loss: 2.30009 Acc: 0.13\n",
            "Train Loss: 2.29881 Acc: 0.11  |  Test Loss: 2.29829 Acc: 0.17\n",
            "Train Loss: 2.29506 Acc: 0.23  |  Test Loss: 2.29366 Acc: 0.20\n",
            "Train Loss: 2.28094 Acc: 0.11  |  Test Loss: 2.26722 Acc: 0.17\n",
            "Epoch 3\n",
            "Train Loss: 2.11034 Acc: 0.20  |  Test Loss: 2.11284 Acc: 0.22\n",
            "Train Loss: 1.89762 Acc: 0.31  |  Test Loss: 2.00326 Acc: 0.26\n",
            "Train Loss: 1.94445 Acc: 0.34  |  Test Loss: 1.94252 Acc: 0.29\n",
            "Train Loss: 1.90281 Acc: 0.28  |  Test Loss: 1.88545 Acc: 0.32\n",
            "Epoch 4\n",
            "Train Loss: 1.76068 Acc: 0.35  |  Test Loss: 1.84397 Acc: 0.33\n",
            "Train Loss: 1.84049 Acc: 0.32  |  Test Loss: 1.79752 Acc: 0.34\n",
            "Train Loss: 1.79705 Acc: 0.36  |  Test Loss: 1.76186 Acc: 0.36\n",
            "Train Loss: 1.68328 Acc: 0.33  |  Test Loss: 1.69717 Acc: 0.38\n",
            "Epoch 5\n",
            "Train Loss: 1.63719 Acc: 0.39  |  Test Loss: 1.64846 Acc: 0.39\n",
            "Train Loss: 1.60349 Acc: 0.39  |  Test Loss: 1.72136 Acc: 0.37\n",
            "Train Loss: 1.58112 Acc: 0.45  |  Test Loss: 1.60039 Acc: 0.41\n",
            "Train Loss: 1.52340 Acc: 0.43  |  Test Loss: 1.60669 Acc: 0.42\n",
            "\n",
            "Training with [False, True, False, True, False]\n",
            "Epoch 0\n",
            "Train Loss: 2.30444 Acc: 0.12  |  Test Loss: 2.30260 Acc: 0.1 \n",
            "Train Loss: 1.84558 Acc: 0.31  |  Test Loss: 1.76509 Acc: 0.35\n",
            "Train Loss: 1.65008 Acc: 0.44  |  Test Loss: 1.60173 Acc: 0.40\n",
            "Train Loss: 1.62216 Acc: 0.42  |  Test Loss: 1.45617 Acc: 0.47\n",
            "Epoch 1\n",
            "Train Loss: 1.37092 Acc: 0.5   |  Test Loss: 1.48254 Acc: 0.48\n",
            "Train Loss: 1.27875 Acc: 0.50  |  Test Loss: 1.28377 Acc: 0.53\n",
            "Train Loss: 1.07186 Acc: 0.62  |  Test Loss: 1.44558 Acc: 0.51\n",
            "Train Loss: 1.02213 Acc: 0.62  |  Test Loss: 1.32166 Acc: 0.53\n",
            "Epoch 2\n",
            "Train Loss: 1.18558 Acc: 0.53  |  Test Loss: 1.14827 Acc: 0.58\n",
            "Train Loss: 0.90958 Acc: 0.67  |  Test Loss: 1.19744 Acc: 0.57\n",
            "Train Loss: 0.96903 Acc: 0.65  |  Test Loss: 1.04409 Acc: 0.62\n",
            "Train Loss: 0.93491 Acc: 0.64  |  Test Loss: 0.99498 Acc: 0.65\n",
            "Epoch 3\n",
            "Train Loss: 0.83780 Acc: 0.69  |  Test Loss: 0.92155 Acc: 0.66\n",
            "Train Loss: 0.88542 Acc: 0.64  |  Test Loss: 1.08221 Acc: 0.62\n",
            "Train Loss: 0.73866 Acc: 0.73  |  Test Loss: 0.91539 Acc: 0.68\n",
            "Train Loss: 0.67011 Acc: 0.76  |  Test Loss: 0.86167 Acc: 0.70\n",
            "Epoch 4\n",
            "Train Loss: 0.87407 Acc: 0.67  |  Test Loss: 0.86688 Acc: 0.69\n",
            "Train Loss: 0.91288 Acc: 0.75  |  Test Loss: 0.84316 Acc: 0.71\n",
            "Train Loss: 0.70825 Acc: 0.74  |  Test Loss: 0.78496 Acc: 0.72\n",
            "Train Loss: 0.87305 Acc: 0.71  |  Test Loss: 0.79978 Acc: 0.72\n",
            "Epoch 5\n",
            "Train Loss: 0.69253 Acc: 0.78  |  Test Loss: 0.82094 Acc: 0.71\n",
            "Train Loss: 0.59894 Acc: 0.78  |  Test Loss: 0.75784 Acc: 0.74\n",
            "Train Loss: 0.65127 Acc: 0.80  |  Test Loss: 0.86155 Acc: 0.71\n",
            "Train Loss: 0.70613 Acc: 0.76  |  Test Loss: 0.74787 Acc: 0.74\n",
            "\n",
            "Training with [True, True, True, True, True]\n",
            "Epoch 0\n",
            "Train Loss: 2.30681 Acc: 0.10  |  Test Loss: 2.30258 Acc: 0.1 \n",
            "Train Loss: 1.68745 Acc: 0.39  |  Test Loss: 1.65666 Acc: 0.39\n",
            "Train Loss: 1.44747 Acc: 0.48  |  Test Loss: 1.41656 Acc: 0.47\n",
            "Train Loss: 1.26292 Acc: 0.48  |  Test Loss: 1.22668 Acc: 0.55\n",
            "Epoch 1\n",
            "Train Loss: 1.14358 Acc: 0.53  |  Test Loss: 1.21322 Acc: 0.56\n",
            "Train Loss: 1.03951 Acc: 0.67  |  Test Loss: 1.17544 Acc: 0.58\n",
            "Train Loss: 1.12314 Acc: 0.57  |  Test Loss: 1.14086 Acc: 0.59\n",
            "Train Loss: 1.03596 Acc: 0.63  |  Test Loss: 1.05474 Acc: 0.64\n",
            "Epoch 2\n",
            "Train Loss: 0.92251 Acc: 0.68  |  Test Loss: 0.90949 Acc: 0.68\n",
            "Train Loss: 0.86570 Acc: 0.63  |  Test Loss: 1.00172 Acc: 0.64\n",
            "Train Loss: 0.91717 Acc: 0.66  |  Test Loss: 0.89258 Acc: 0.68\n",
            "Train Loss: 0.96504 Acc: 0.66  |  Test Loss: 0.83281 Acc: 0.71\n",
            "Epoch 3\n",
            "Train Loss: 0.67069 Acc: 0.75  |  Test Loss: 0.96398 Acc: 0.67\n",
            "Train Loss: 0.84025 Acc: 0.76  |  Test Loss: 0.77708 Acc: 0.73\n",
            "Train Loss: 0.81410 Acc: 0.68  |  Test Loss: 0.77892 Acc: 0.73\n",
            "Train Loss: 0.77432 Acc: 0.75  |  Test Loss: 0.85408 Acc: 0.70\n",
            "Epoch 4\n",
            "Train Loss: 0.66796 Acc: 0.75  |  Test Loss: 0.83862 Acc: 0.71\n",
            "Train Loss: 0.76241 Acc: 0.75  |  Test Loss: 0.80602 Acc: 0.72\n",
            "Train Loss: 0.54425 Acc: 0.85  |  Test Loss: 0.72947 Acc: 0.74\n",
            "Train Loss: 0.56587 Acc: 0.78  |  Test Loss: 0.73608 Acc: 0.74\n",
            "Epoch 5\n",
            "Train Loss: 0.64898 Acc: 0.73  |  Test Loss: 0.99876 Acc: 0.69\n",
            "Train Loss: 0.78981 Acc: 0.75  |  Test Loss: 0.73424 Acc: 0.75\n",
            "Train Loss: 0.58959 Acc: 0.79  |  Test Loss: 0.78870 Acc: 0.73\n",
            "Train Loss: 0.66034 Acc: 0.76  |  Test Loss: 0.74961 Acc: 0.74\n"
          ],
          "name": "stdout"
        }
      ]
    },
    {
      "cell_type": "markdown",
      "metadata": {
        "id": "cJiIUTYixgUH",
        "colab_type": "text"
      },
      "source": [
        "# Impressions"
      ]
    },
    {
      "cell_type": "code",
      "metadata": {
        "id": "Ga_8mX-PLy31",
        "colab_type": "code",
        "colab": {
          "base_uri": "https://localhost:8080/",
          "height": 54
        },
        "outputId": "47840588-75f4-4021-f4a9-224226288548"
      },
      "source": [
        "print(test_acc_history)"
      ],
      "execution_count": 10,
      "outputs": [
        {
          "output_type": "stream",
          "text": [
            "[[0.1, 0.1121, 0.1, 0.1, 0.1, 0.1089, 0.1543, 0.1671, 0.1389, 0.1748, 0.2076, 0.1721, 0.2241, 0.2647, 0.2905, 0.3203, 0.3358, 0.3405, 0.3648, 0.3832, 0.3948, 0.3788, 0.4163, 0.4223], [0.1, 0.3501, 0.4035, 0.4742, 0.4873, 0.532, 0.5166, 0.5376, 0.5846, 0.5789, 0.6245, 0.6546, 0.6647, 0.6296, 0.6816, 0.7071, 0.6989, 0.7126, 0.7275, 0.7278, 0.7179, 0.7406, 0.7139, 0.74], [0.1, 0.3912, 0.479, 0.554, 0.5664, 0.5885, 0.5959, 0.6452, 0.6838, 0.6469, 0.6845, 0.7107, 0.6732, 0.7344, 0.7305, 0.7024, 0.7175, 0.7235, 0.7474, 0.7417, 0.6914, 0.7552, 0.7373, 0.7483]]\n"
          ],
          "name": "stdout"
        }
      ]
    },
    {
      "cell_type": "code",
      "metadata": {
        "id": "cPsCzvKJMAOB",
        "colab_type": "code",
        "colab": {
          "base_uri": "https://localhost:8080/",
          "height": 893
        },
        "outputId": "33a60a44-470d-422f-86d8-625a5e11ed57"
      },
      "source": [
        "plt.rcParams['figure.figsize'] = (30,15)\n",
        "for a in test_acc_history:\n",
        "  plt.plot(range(len(a)), a)\n",
        "plt.title('model accuracy')\n",
        "plt.ylabel('accuracy')\n",
        "plt.xlabel('epoch')\n",
        "plt.legend(['not normalized', '01010', 'fully normalized'], loc='lower right')\n",
        "plt.show()"
      ],
      "execution_count": 11,
      "outputs": [
        {
          "output_type": "display_data",
          "data": {
            "image/png": "[encoded data removed]",
            "text/plain": [
              "<Figure size 2160x1080 with 1 Axes>"
            ]
          },
          "metadata": {
            "tags": [],
            "needs_background": "light"
          }
        }
      ]
    }
  ]
}